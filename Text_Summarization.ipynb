{
 "cells": [
  {
   "cell_type": "code",
   "execution_count": 1,
   "metadata": {},
   "outputs": [],
   "source": [
    "import transformers"
   ]
  },
  {
   "cell_type": "code",
   "execution_count": 3,
   "metadata": {},
   "outputs": [],
   "source": [
    "long_text = \"\"\"\n",
    "Advancements in Renewable Energy Technologies\n",
    "The last decade has seen remarkable advancements in renewable energy technologies, signaling a significant shift towards more sustainable and environmentally friendly energy sources. These advancements have not only contributed to the reduction of greenhouse gas emissions but also enhanced the efficiency and cost-effectiveness of renewable energy production.\n",
    "\n",
    "Solar Power: Solar energy technology has made significant leaps, especially in photovoltaic (PV) cell efficiency and the development of solar thermal power. The introduction of perovskite solar cells offers a cheaper and potentially more efficient alternative to the traditional silicon-based cells. Innovations such as floating solar farms are maximizing the use of water bodies for energy production without occupying valuable land space.\n",
    "\n",
    "Wind Energy: Wind energy has also seen considerable improvements, with the development of larger, more efficient turbine designs. Offshore wind farms are becoming increasingly common, benefiting from stronger and more consistent wind speeds available at sea. The use of digital twins technology in wind turbines helps in optimizing their operation and maintenance, significantly increasing energy output.\n",
    "\n",
    "Hydroelectric Power: Advancements in hydroelectric technology have focused on minimizing environmental impacts and enhancing efficiency. The development of fish-friendly turbines has reduced the ecological footprint of hydroelectric dams. Small-scale hydroelectric projects are becoming more popular, offering a viable energy solution for remote communities without the extensive environmental disruption caused by larger dams.\n",
    "\n",
    "Geothermal Energy: Geothermal energy has expanded its reach beyond traditional hotspots thanks to enhanced geothermal systems (EGS), which allow for the exploitation of geothermal resources in a wider range of geographical locations. This technology involves injecting water into hot rocks deep underground to produce steam, which can then be used to generate electricity.\n",
    "\n",
    "Bioenergy: The bioenergy sector has made strides in producing biofuels from non-food sources, reducing competition with food production. The development of advanced biofuels from algae and cellulosic materials presents a promising future for sustainable fuel production. Biogas technology has also advanced, improving the efficiency of converting organic waste into energy.\n",
    "\n",
    "Storage and Integration: One of the critical challenges with renewable energy is its intermittent nature. Recent advancements in energy storage technologies, such as lithium-ion batteries, flow batteries, and hydrogen storage, are addressing this issue, enabling more reliable and continuous energy supply. Moreover, the integration of renewable energy sources into the grid has been facilitated by smarter grid management systems, which balance supply and demand more effectively.\n",
    "\n",
    "Policy and Market Development: Alongside technological advancements, policy and market developments have played a crucial role in the adoption of renewable energy. Incentives like tax credits, feed-in tariffs, and renewable energy certificates have made investments in renewable technologies more attractive. The international commitment to reducing carbon emissions, as seen in agreements like the Paris Agreement, continues to drive innovation and adoption of renewable energy technologies.\n",
    "\n",
    "In conclusion, the advancements in renewable energy technologies over the past decade are paving the way for a more sustainable and environmentally friendly future. While challenges remain, particularly in terms of storage and grid integration, the continued innovation and supportive policy landscape present a positive outlook for the widespread adoption of renewable energy.\n",
    "\"\"\"\n",
    "\n",
    "long_text = long_text.replace(\"\\n\", \"\")"
   ]
  },
  {
   "cell_type": "code",
   "execution_count": 2,
   "metadata": {},
   "outputs": [],
   "source": [
    "from transformers import pipeline"
   ]
  },
  {
   "cell_type": "code",
   "execution_count": 4,
   "metadata": {},
   "outputs": [
    {
     "data": {
      "application/vnd.jupyter.widget-view+json": {
       "model_id": "2f59ff08a4b343848f02a3cf00174aa1",
       "version_major": 2,
       "version_minor": 0
      },
      "text/plain": [
       "config.json:   0%|          | 0.00/1.58k [00:00<?, ?B/s]"
      ]
     },
     "metadata": {},
     "output_type": "display_data"
    },
    {
     "data": {
      "application/vnd.jupyter.widget-view+json": {
       "model_id": "7f3cdbf2222241a1bf47a46a1b52cdc5",
       "version_major": 2,
       "version_minor": 0
      },
      "text/plain": [
       "model.safetensors:   0%|          | 0.00/1.63G [00:00<?, ?B/s]"
      ]
     },
     "metadata": {},
     "output_type": "display_data"
    },
    {
     "data": {
      "application/vnd.jupyter.widget-view+json": {
       "model_id": "2093628911a74220a3c2d86d43f62452",
       "version_major": 2,
       "version_minor": 0
      },
      "text/plain": [
       "generation_config.json:   0%|          | 0.00/363 [00:00<?, ?B/s]"
      ]
     },
     "metadata": {},
     "output_type": "display_data"
    },
    {
     "data": {
      "application/vnd.jupyter.widget-view+json": {
       "model_id": "955292ccbb5f480b9ad62381db0bf8ee",
       "version_major": 2,
       "version_minor": 0
      },
      "text/plain": [
       "vocab.json:   0%|          | 0.00/899k [00:00<?, ?B/s]"
      ]
     },
     "metadata": {},
     "output_type": "display_data"
    },
    {
     "data": {
      "application/vnd.jupyter.widget-view+json": {
       "model_id": "1b2d286f920c4a3ebc307dd6c36a59b5",
       "version_major": 2,
       "version_minor": 0
      },
      "text/plain": [
       "merges.txt:   0%|          | 0.00/456k [00:00<?, ?B/s]"
      ]
     },
     "metadata": {},
     "output_type": "display_data"
    },
    {
     "data": {
      "application/vnd.jupyter.widget-view+json": {
       "model_id": "40564f071f3c43c9b94ce6558b90a11d",
       "version_major": 2,
       "version_minor": 0
      },
      "text/plain": [
       "tokenizer.json:   0%|          | 0.00/1.36M [00:00<?, ?B/s]"
      ]
     },
     "metadata": {},
     "output_type": "display_data"
    }
   ],
   "source": [
    "extractive_summarizer = pipeline(\"summarization\", model=\"facebook/bart-large-cnn\", min_length=75, max_length=200)"
   ]
  },
  {
   "cell_type": "code",
   "execution_count": 5,
   "metadata": {},
   "outputs": [],
   "source": [
    "extractive_summary = extractive_summarizer(long_text)"
   ]
  },
  {
   "cell_type": "code",
   "execution_count": 8,
   "metadata": {},
   "outputs": [
    {
     "data": {
      "text/plain": [
       "'The last decade has seen remarkable advancements in renewable energy technologies. Solar energy technology has made significant leaps, especially in photovoltaic (PV) cell efficiency and the development of solar thermal power. Offshore wind farms are becoming increasingly common, benefiting from stronger and more consistent wind speeds available at sea. Policy and market developments have played a crucial role in the adoption of renewable energy.'"
      ]
     },
     "execution_count": 8,
     "metadata": {},
     "output_type": "execute_result"
    }
   ],
   "source": [
    "extractive_summary[0]['summary_text']"
   ]
  },
  {
   "cell_type": "markdown",
   "metadata": {},
   "source": [
    "Evaluating with ROUGE"
   ]
  },
  {
   "cell_type": "code",
   "execution_count": 9,
   "metadata": {},
   "outputs": [
    {
     "name": "stderr",
     "output_type": "stream",
     "text": [
      "huggingface/tokenizers: The current process just got forked, after parallelism has already been used. Disabling parallelism to avoid deadlocks...\n",
      "To disable this warning, you can either:\n",
      "\t- Avoid using `tokenizers` before the fork if possible\n",
      "\t- Explicitly set the environment variable TOKENIZERS_PARALLELISM=(true | false)\n"
     ]
    },
    {
     "name": "stdout",
     "output_type": "stream",
     "text": [
      "Collecting rouge_score\n",
      "  Downloading rouge_score-0.1.2.tar.gz (17 kB)\n",
      "  Preparing metadata (setup.py) ... \u001b[?25ldone\n",
      "\u001b[?25hRequirement already satisfied: absl-py in /opt/anaconda3/lib/python3.11/site-packages (from rouge_score) (1.4.0)\n",
      "Requirement already satisfied: nltk in /opt/anaconda3/lib/python3.11/site-packages (from rouge_score) (3.8.1)\n",
      "Requirement already satisfied: numpy in /opt/anaconda3/lib/python3.11/site-packages (from rouge_score) (1.23.5)\n",
      "Requirement already satisfied: six>=1.14.0 in /opt/anaconda3/lib/python3.11/site-packages (from rouge_score) (1.16.0)\n",
      "Requirement already satisfied: click in /opt/anaconda3/lib/python3.11/site-packages (from nltk->rouge_score) (8.1.7)\n",
      "Requirement already satisfied: joblib in /opt/anaconda3/lib/python3.11/site-packages (from nltk->rouge_score) (1.2.0)\n",
      "Requirement already satisfied: regex>=2021.8.3 in /opt/anaconda3/lib/python3.11/site-packages (from nltk->rouge_score) (2023.10.3)\n",
      "Requirement already satisfied: tqdm in /opt/anaconda3/lib/python3.11/site-packages (from nltk->rouge_score) (4.65.0)\n",
      "Building wheels for collected packages: rouge_score\n",
      "  Building wheel for rouge_score (setup.py) ... \u001b[?25ldone\n",
      "\u001b[?25h  Created wheel for rouge_score: filename=rouge_score-0.1.2-py3-none-any.whl size=24936 sha256=7631ca4e0ad62fb4fed532edd2a0b37ed6b252b16c3107fd4949f08b41eaae7b\n",
      "  Stored in directory: /Users/ronaldmatovu/Library/Caches/pip/wheels/1e/19/43/8a442dc83660ca25e163e1bd1f89919284ab0d0c1475475148\n",
      "Successfully built rouge_score\n",
      "Installing collected packages: rouge_score\n",
      "Successfully installed rouge_score-0.1.2\n"
     ]
    }
   ],
   "source": [
    "!pip install rouge_score"
   ]
  },
  {
   "cell_type": "code",
   "execution_count": 10,
   "metadata": {},
   "outputs": [],
   "source": [
    "import evaluate"
   ]
  },
  {
   "cell_type": "code",
   "execution_count": 11,
   "metadata": {},
   "outputs": [],
   "source": [
    "rouge_evaluator = evaluate.load('rouge')"
   ]
  },
  {
   "cell_type": "code",
   "execution_count": 12,
   "metadata": {},
   "outputs": [],
   "source": [
    "#Evaluate exact match strings\n",
    "reference_text=[\"This is the same string\"]\n",
    "predict_text=[\"This is the same string\"]"
   ]
  },
  {
   "cell_type": "code",
   "execution_count": 13,
   "metadata": {},
   "outputs": [],
   "source": [
    "eval_results=rouge_evaluator.compute(predictions=predict_text, \n",
    "                                     references=reference_text)"
   ]
  },
  {
   "cell_type": "code",
   "execution_count": 14,
   "metadata": {},
   "outputs": [
    {
     "data": {
      "text/plain": [
       "\"Results for exact match strings: {'rouge1': 1.0, 'rouge2': 1.0, 'rougeL': 1.0, 'rougeLsum': 1.0}\""
      ]
     },
     "execution_count": 14,
     "metadata": {},
     "output_type": "execute_result"
    }
   ],
   "source": [
    "f\"Results for exact match strings: {eval_results}\""
   ]
  },
  {
   "cell_type": "code",
   "execution_count": 15,
   "metadata": {},
   "outputs": [],
   "source": [
    "#Evaluate no-match strings\n",
    "reference_text=[\"This is the different string\"]\n",
    "predict_text=[\"Google can predict warm weather\"]\n",
    "\n",
    "eval_results=rouge_evaluator.compute(predictions=predict_text, \n",
    "                                     references=reference_text)"
   ]
  },
  {
   "cell_type": "code",
   "execution_count": 16,
   "metadata": {},
   "outputs": [
    {
     "data": {
      "text/plain": [
       "\"Results for no-match strings: {'rouge1': 0.0, 'rouge2': 0.0, 'rougeL': 0.0, 'rougeLsum': 0.0}\""
      ]
     },
     "execution_count": 16,
     "metadata": {},
     "output_type": "execute_result"
    }
   ],
   "source": [
    "f\"Results for no-match strings: {eval_results}\""
   ]
  },
  {
   "cell_type": "code",
   "execution_count": 17,
   "metadata": {},
   "outputs": [],
   "source": [
    "# Evaluate summary\n",
    "eval_results=rouge_evaluator.compute(\n",
    "    predictions=[extractive_summary[0].get(\"summary_text\")], \n",
    "    references=[long_text])"
   ]
  },
  {
   "cell_type": "code",
   "execution_count": 18,
   "metadata": {},
   "outputs": [
    {
     "data": {
      "text/plain": [
       "\"Results for the generated summary: {'rouge1': 0.22107081174438684, 'rouge2': 0.20450606585788558, 'rougeL': 0.21761658031088082, 'rougeLsum': 0.21761658031088082}\""
      ]
     },
     "execution_count": 18,
     "metadata": {},
     "output_type": "execute_result"
    }
   ],
   "source": [
    "f\"Results for the generated summary: {eval_results}\""
   ]
  },
  {
   "cell_type": "code",
   "execution_count": null,
   "metadata": {},
   "outputs": [],
   "source": []
  }
 ],
 "metadata": {
  "kernelspec": {
   "display_name": "base",
   "language": "python",
   "name": "python3"
  },
  "language_info": {
   "codemirror_mode": {
    "name": "ipython",
    "version": 3
   },
   "file_extension": ".py",
   "mimetype": "text/x-python",
   "name": "python",
   "nbconvert_exporter": "python",
   "pygments_lexer": "ipython3",
   "version": "3.11.5"
  }
 },
 "nbformat": 4,
 "nbformat_minor": 2
}
